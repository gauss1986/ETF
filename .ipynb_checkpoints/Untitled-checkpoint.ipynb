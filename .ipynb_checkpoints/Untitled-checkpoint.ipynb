{
 "cells": [
  {
   "cell_type": "code",
   "execution_count": 69,
   "metadata": {},
   "outputs": [],
   "source": [
    "import numpy as np\n",
    "import pandas as pd\n",
    "import matplotlib\n",
    "matplotlib.rcParams.update({'font.size': 15})\n",
    "import matplotlib.pyplot as plt\n",
    "from IPython.core.debugger import Tracer\n",
    "from pyomo.environ import *\n",
    "import random\n",
    "from __future__ import division"
   ]
  },
  {
   "cell_type": "code",
   "execution_count": 70,
   "metadata": {},
   "outputs": [],
   "source": [
    "x = pd.read_csv('5_industry.csv',index_col=0)"
   ]
  },
  {
   "cell_type": "code",
   "execution_count": 71,
   "metadata": {},
   "outputs": [],
   "source": [
    "length = x.shape[0]\n",
    "train_length = int(round(length * 0.8))\n",
    "x_train = x.iloc[0:train_length,:]\n",
    "x_test = x.iloc[train_length+1:,:]"
   ]
  },
  {
   "cell_type": "code",
   "execution_count": 72,
   "metadata": {},
   "outputs": [
    {
     "name": "stdout",
     "output_type": "stream",
     "text": [
      "          Cnsmr     Manuf     HiTec     Hlth      Other\n",
      "Cnsmr  1.000000  0.958023  0.932625  0.863153  0.938511\n",
      "Manuf  0.958023  1.000000  0.922919  0.835711  0.948169\n",
      "HiTec  0.932625  0.922919  1.000000  0.885463  0.883908\n",
      "Hlth   0.863153  0.835711  0.885463  1.000000  0.805724\n",
      "Other  0.938511  0.948169  0.883908  0.805724  1.000000\n"
     ]
    }
   ],
   "source": [
    "C = x_train.corr()\n",
    "print C"
   ]
  },
  {
   "cell_type": "code",
   "execution_count": 73,
   "metadata": {},
   "outputs": [
    {
     "name": "stdout",
     "output_type": "stream",
     "text": [
      "Cnsmr    1.225137\n",
      "Manuf    1.319829\n",
      "HiTec    1.463246\n",
      "Hlth     1.328793\n",
      "Other    1.377346\n",
      "dtype: float64\n"
     ]
    }
   ],
   "source": [
    "r_bar = x_train.mean()\n",
    "print r_bar"
   ]
  },
  {
   "cell_type": "markdown",
   "metadata": {},
   "source": [
    "# piece-wise linear transaction cost"
   ]
  },
  {
   "cell_type": "code",
   "execution_count": 74,
   "metadata": {},
   "outputs": [
    {
     "name": "stdout",
     "output_type": "stream",
     "text": [
      "rate:\n",
      "  level cost_ratio\n",
      "0   0.2        0.1\n",
      "1   0.4      0.064\n",
      "2   0.6      0.036\n",
      "3   0.8      0.016\n",
      "4     1      0.004\n"
     ]
    }
   ],
   "source": [
    "def cost(x, rate):\n",
    "    \"\"\"\n",
    "    compute cost based on the piece-wise linear rate table\n",
    "    \"\"\"\n",
    "\n",
    "    n = 0    \n",
    "    c = float(rate.loc[0,'cost_ratio']) * x\n",
    "    while float(rate.loc[n,'level']) < x:\n",
    "        c += (float(rate.loc[n+1,'cost_ratio'])-float(rate.loc[n,'cost_ratio'])) * (x-float(rate.loc[n,'level']))\n",
    "        n += 1\n",
    "        \n",
    "    return c\n",
    "\n",
    "# define the piece-wise linear rate table\n",
    "rate = pd.DataFrame(index=range(5),columns=[['level','cost_ratio']])\n",
    "for i in range(5):\n",
    "    rate.iloc[i] = [(i+1)/5., (5-i)**2/250.]\n",
    "    \n",
    "print 'rate:\\n',rate"
   ]
  },
  {
   "cell_type": "code",
   "execution_count": 75,
   "metadata": {},
   "outputs": [
    {
     "data": {
      "text/plain": [
       "0.9999999999989999"
      ]
     },
     "execution_count": 75,
     "metadata": {},
     "output_type": "execute_result"
    }
   ],
   "source": [
    "7*(cost(0.12987012987,rate)+0.12987012987)"
   ]
  },
  {
   "cell_type": "markdown",
   "metadata": {},
   "source": [
    "## plot the transaction cost"
   ]
  },
  {
   "cell_type": "code",
   "execution_count": 76,
   "metadata": {},
   "outputs": [
    {
     "data": {
      "image/png": "[encoded data removed]",
      "text/plain": [
       "<matplotlib.figure.Figure at 0x10c0bf710>"
      ]
     },
     "metadata": {},
     "output_type": "display_data"
    }
   ],
   "source": [
    "x = [i*1.0/len(rate) for i in range(len(rate)+1)]\n",
    "y = [cost(i,rate) for i in x]\n",
    "plt.figure(figsize=(10,8))\n",
    "plt.plot(x,y,'-*')\n",
    "for i in range(len(rate)):\n",
    "    T = '('+str(round(x[i+1], 2))+','+str(round(y[i+1], 3))+')'\n",
    "    #plt.text(x[i+1],y[i+1],T)\n",
    "    plt.text((x[i+1]+x[i])/2,(y[i+1]+y[i])/2,'k='+str((y[i+1]-y[i])/(x[i+1]-x[i])))\n",
    "\n",
    "plt.show()"
   ]
  },
  {
   "cell_type": "markdown",
   "metadata": {},
   "source": [
    "# optimization code for pyomo, have to be copied to p-etf.py after edit"
   ]
  },
  {
   "cell_type": "code",
   "execution_count": 77,
   "metadata": {},
   "outputs": [],
   "source": [
    "model = AbstractModel()\n",
    "# using the notations in A.H. Chen et al., Chap6 Handbook of portfolio construction \n",
    "\n",
    "# No. of risky assets\n",
    "model.n = Param(within=PositiveIntegers)\n",
    "\n",
    "# allow short position. Change to NonNegativeINtegers to only allow long position\n",
    "model.I = Set()\n",
    "model.J = Set()\n",
    "\n",
    "model.rf = Param()\n",
    "model.gamma = Param()\n",
    "model.lam = Param()\n",
    "\n",
    "model.x0 = Param(model.I, default=0)\n",
    "model.rbar = Param(model.I)\n",
    "model.cov = Param(model.I, model.I)\n",
    "#model2.y0 = Param(initialize=1-sum(i for i in model2.x0))\n",
    "\n",
    "# xb, xs, x and y\n",
    "def zeros(model, i): \n",
    "    return (0) \n",
    "model.xb = Var(model.I, bounds=(0,1), initialize=zeros)\n",
    "model.xs = Var(model.I, bounds=(0,0.2), initialize=zeros)\n",
    "model.x = Var(model.I, bounds=(0,1))\n",
    "model.y = Var(bounds=(0,1))\n",
    "\n",
    "# objective\n",
    "def cost_(model):\n",
    "    return -model.rf*model.y - sum(model.rbar[i]*model.x[i] for i in model.I) \\\n",
    "            + model.gamma * sum(sum(model.cov[i,j]*model.x[j] for j in model.J)*model.x[i] for i in model.I)\\\n",
    "            - model.lam * (model.y + sum(model.x[i] for i in model.I))\n",
    "model.cost = Objective(rule=cost_)\n",
    "\n",
    "# locate risky assets\n",
    "def risky_(model,i):\n",
    "    return model.x[i] == model.x0[i] + model.xb[i] - model.xs[i]\n",
    "model.risky = Constraint(model.I,rule=risky_)\n",
    "\n",
    "# capital constraint\n",
    "def capital_(model):\n",
    "    return model.y + sum(model.x[i] + cost(model.xb[i]) + cost(model.xs[i]) for i in model.I) <= 1\n",
    "model.capital = Constraint(rule=capital_)"
   ]
  },
  {
   "cell_type": "code",
   "execution_count": 65,
   "metadata": {},
   "outputs": [
    {
     "name": "stdout",
     "output_type": "stream",
     "text": [
      "[    0.00] Setting up Pyomo environment\n",
      "[    0.00] Applying Pyomo preprocessing actions\n",
      "[    0.25] Creating model\n",
      "[    0.35] Applying solver\n",
      "Job 6012944 submitted to NEOS, password='hPRfcQYI'\n",
      "Check the following URL for progress report :\n",
      "https://www.neos-server.org/neos/cgi-bin/nph-neos-solver.cgi?admin=results&jobnumber=6012944&pass=hPRfcQYI\n",
      "Job 6012944 dispatched\n",
      "password: hPRfcQYI\n",
      "---------- Begin Solver Output -----------\n",
      "Condor submit: 'neos.submit'\n",
      "Condor submit: 'watchdog.submit'\n",
      "Job submitted to NEOS HTCondor pool.\n",
      "[   11.04] Processing results\n",
      "    Number of solutions: 1\n",
      "    Solution Information\n",
      "      Gap: None\n",
      "      Status: optimal\n",
      "      Function Value: -0.573392523619\n",
      "    Solver results file: results.yml\n",
      "[   11.04] Applying Pyomo postprocessing actions\n",
      "[   11.04] Pyomo Finished\n"
     ]
    }
   ],
   "source": [
    "!pyomo solve --solver-manager=neos --solver=cbc p-etf.py p-etf.dat"
   ]
  },
  {
   "cell_type": "code",
   "execution_count": 66,
   "metadata": {},
   "outputs": [
    {
     "name": "stdout",
     "output_type": "stream",
     "text": [
      "# ==========================================================\r\n",
      "# = Solver Results                                         =\r\n",
      "# ==========================================================\r\n",
      "# ----------------------------------------------------------\r\n",
      "#   Problem Information\r\n",
      "# ----------------------------------------------------------\r\n",
      "Problem: \r\n",
      "- Lower bound: -inf\r\n",
      "  Upper bound: inf\r\n",
      "  Number of objectives: 1\r\n",
      "  Number of constraints: 11\r\n",
      "  Number of variables: 31\r\n",
      "  Sense: unknown\r\n",
      "# ----------------------------------------------------------\r\n",
      "#   Solver Information\r\n",
      "# ----------------------------------------------------------\r\n",
      "Solver: \r\n",
      "- Status: ok\r\n",
      "  Message: CBC 2.9.9 optimal, objective -1.33315387249114; 0 nodes, 0 iterations, 0.010999 seconds\r\n",
      "  Termination condition: optimal\r\n",
      "  Id: 0\r\n",
      "# ----------------------------------------------------------\r\n",
      "#   Solution Information\r\n",
      "# ----------------------------------------------------------\r\n",
      "Solution: \r\n",
      "- number of solutions: 1\r\n",
      "  number of solutions displayed: 1\r\n",
      "- Gap: None\r\n",
      "  Status: optimal\r\n",
      "  Message: CBC 2.9.9 optimal, objective -1.33315387249114; 0 nodes, 0 iterations, 0.010999 seconds\r\n",
      "  Objective:\r\n",
      "    cost:\r\n",
      "      Value: -0.573392523619\r\n",
      "  Variable:\r\n",
      "    x[C_VUS]:\r\n",
      "      Value: 0.12987012987\r\n",
      "    x[C_XIC]:\r\n",
      "      Value: 0.12987012987\r\n",
      "    x[C_XSH]:\r\n",
      "      Value: 0.12987012987\r\n",
      "    x[C_ZFM]:\r\n",
      "      Value: 0.12987012987\r\n",
      "    x[IEFA]:\r\n",
      "      Value: 0.12987012987\r\n",
      "    x[IEMG]:\r\n",
      "      Value: 0.12987012987\r\n",
      "    x[VTI]:\r\n",
      "      Value: 0.12987012987\r\n",
      "    xb[C_VUS]:\r\n",
      "      Value: 0.12987012987\r\n",
      "    xb[C_XIC]:\r\n",
      "      Value: 0.12987012987\r\n",
      "    xb[C_XSH]:\r\n",
      "      Value: 0.12987012987\r\n",
      "    xb[C_ZFM]:\r\n",
      "      Value: 0.12987012987\r\n",
      "    xb[IEFA]:\r\n",
      "      Value: 0.12987012987\r\n",
      "    xb[IEMG]:\r\n",
      "      Value: 0.12987012987\r\n",
      "    xb[VTI]:\r\n",
      "      Value: 0.12987012987\r\n",
      "  Constraint: No values\r\n"
     ]
    }
   ],
   "source": [
    "!cat results.yml"
   ]
  }
 ],
 "metadata": {
  "kernelspec": {
   "display_name": "Python 2",
   "language": "python",
   "name": "python2"
  },
  "language_info": {
   "codemirror_mode": {
    "name": "ipython",
    "version": 2
   },
   "file_extension": ".py",
   "mimetype": "text/x-python",
   "name": "python",
   "nbconvert_exporter": "python",
   "pygments_lexer": "ipython2",
   "version": "2.7.14"
  }
 },
 "nbformat": 4,
 "nbformat_minor": 2
}
