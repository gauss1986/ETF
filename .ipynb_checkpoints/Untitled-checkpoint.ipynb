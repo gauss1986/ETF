{
 "cells": [
  {
   "cell_type": "code",
   "execution_count": 1,
   "metadata": {
    "collapsed": true
   },
   "outputs": [],
   "source": [
    "import numpy as np\n",
    "import pandas as pd\n",
    "import matplotlib.pyplot as plt\n",
    "from IPython.core.debugger import Tracer\n",
    "from pyomo.environ import *\n",
    "import random"
   ]
  },
  {
   "cell_type": "code",
   "execution_count": 2,
   "metadata": {
    "collapsed": true
   },
   "outputs": [],
   "source": [
    "x = pd.read_csv('5_industry.csv',index_col=0)"
   ]
  },
  {
   "cell_type": "code",
   "execution_count": 3,
   "metadata": {
    "collapsed": true
   },
   "outputs": [],
   "source": [
    "length = x.shape[0]\n",
    "train_length = int(round(length * 0.8))\n",
    "x_train = x.iloc[0:train_length,:]\n",
    "x_test = x.iloc[train_length+1:,:]"
   ]
  },
  {
   "cell_type": "code",
   "execution_count": 4,
   "metadata": {},
   "outputs": [
    {
     "name": "stdout",
     "output_type": "stream",
     "text": [
      "          Cnsmr     Manuf     HiTec     Hlth      Other\n",
      "Cnsmr  1.000000  0.958023  0.932625  0.863153  0.938511\n",
      "Manuf  0.958023  1.000000  0.922919  0.835711  0.948169\n",
      "HiTec  0.932625  0.922919  1.000000  0.885463  0.883908\n",
      "Hlth   0.863153  0.835711  0.885463  1.000000  0.805724\n",
      "Other  0.938511  0.948169  0.883908  0.805724  1.000000\n"
     ]
    }
   ],
   "source": [
    "C = x_train.corr()\n",
    "print C"
   ]
  },
  {
   "cell_type": "code",
   "execution_count": 5,
   "metadata": {},
   "outputs": [
    {
     "name": "stdout",
     "output_type": "stream",
     "text": [
      "Cnsmr    1.225137\n",
      "Manuf    1.319829\n",
      "HiTec    1.463246\n",
      "Hlth     1.328793\n",
      "Other    1.377346\n",
      "dtype: float64\n"
     ]
    }
   ],
   "source": [
    "r_bar = x_train.mean()\n",
    "print r_bar"
   ]
  },
  {
   "cell_type": "code",
   "execution_count": 6,
   "metadata": {
    "collapsed": true
   },
   "outputs": [],
   "source": [
    "rate = pd.DataFrame(index=range(5),columns=[['level','cost_ratio']])\n",
    "for i in range(5):\n",
    "    rate.iloc[i] = [(i+1)/5., (5-i)**2/250.]"
   ]
  },
  {
   "cell_type": "code",
   "execution_count": 7,
   "metadata": {},
   "outputs": [
    {
     "data": {
      "text/html": [
       "<div>\n",
       "<table border=\"1\" class=\"dataframe\">\n",
       "  <thead>\n",
       "    <tr style=\"text-align: right;\">\n",
       "      <th></th>\n",
       "      <th>level</th>\n",
       "      <th>cost_ratio</th>\n",
       "    </tr>\n",
       "  </thead>\n",
       "  <tbody>\n",
       "    <tr>\n",
       "      <th>0</th>\n",
       "      <td>0.2</td>\n",
       "      <td>0.1</td>\n",
       "    </tr>\n",
       "    <tr>\n",
       "      <th>1</th>\n",
       "      <td>0.4</td>\n",
       "      <td>0.064</td>\n",
       "    </tr>\n",
       "    <tr>\n",
       "      <th>2</th>\n",
       "      <td>0.6</td>\n",
       "      <td>0.036</td>\n",
       "    </tr>\n",
       "    <tr>\n",
       "      <th>3</th>\n",
       "      <td>0.8</td>\n",
       "      <td>0.016</td>\n",
       "    </tr>\n",
       "    <tr>\n",
       "      <th>4</th>\n",
       "      <td>1</td>\n",
       "      <td>0.004</td>\n",
       "    </tr>\n",
       "  </tbody>\n",
       "</table>\n",
       "</div>"
      ],
      "text/plain": [
       "  level cost_ratio\n",
       "0   0.2        0.1\n",
       "1   0.4      0.064\n",
       "2   0.6      0.036\n",
       "3   0.8      0.016\n",
       "4     1      0.004"
      ]
     },
     "execution_count": 7,
     "metadata": {},
     "output_type": "execute_result"
    }
   ],
   "source": [
    "rate"
   ]
  },
  {
   "cell_type": "code",
   "execution_count": 8,
   "metadata": {
    "collapsed": true
   },
   "outputs": [],
   "source": [
    "def cost(x, rate):\n",
    "    # coeff\n",
    "\n",
    "    n = 0    \n",
    "    c = rate['cost_ratio'][0] * x\n",
    "    while rate['level'][n] < x:\n",
    "        c += (rate['cost_ratio'][n+1]-rate['cost_ratio'][n]) * (x-rate['level'][n])\n",
    "        n += 1\n",
    "        \n",
    "    return c"
   ]
  },
  {
   "cell_type": "code",
   "execution_count": 9,
   "metadata": {},
   "outputs": [
    {
     "data": {
      "image/png": "[encoded data removed]",
      "text/plain": [
       "<matplotlib.figure.Figure at 0x111ac7790>"
      ]
     },
     "metadata": {},
     "output_type": "display_data"
    }
   ],
   "source": [
    "x = [i/5. for i in range(6)]\n",
    "y = [cost(i,rate) for i in x]\n",
    "plt.plot(x,y,'-*')\n",
    "plt.show()"
   ]
  },
  {
   "cell_type": "code",
   "execution_count": 10,
   "metadata": {
    "collapsed": true
   },
   "outputs": [],
   "source": [
    "r_f = 0.003\n",
    "gam = 0.1\n",
    "lam = 0.1\n",
    "c=0.01"
   ]
  },
  {
   "cell_type": "code",
   "execution_count": 11,
   "metadata": {},
   "outputs": [
    {
     "ename": "NameError",
     "evalue": "name 'x_0' is not defined",
     "output_type": "error",
     "traceback": [
      "\u001b[0;31m---------------------------------------------------------------------------\u001b[0m",
      "\u001b[0;31mNameError\u001b[0m                                 Traceback (most recent call last)",
      "\u001b[0;32m<ipython-input-11-e4c4b0f010f5>\u001b[0m in \u001b[0;36m<module>\u001b[0;34m()\u001b[0m\n\u001b[1;32m      1\u001b[0m \u001b[0mc\u001b[0m \u001b[0;34m=\u001b[0m \u001b[0;36m0\u001b[0m\u001b[0;34m\u001b[0m\u001b[0m\n\u001b[1;32m      2\u001b[0m \u001b[0;32mfor\u001b[0m \u001b[0mi\u001b[0m \u001b[0;32min\u001b[0m \u001b[0mrange\u001b[0m\u001b[0;34m(\u001b[0m\u001b[0;36m5\u001b[0m\u001b[0;34m)\u001b[0m\u001b[0;34m:\u001b[0m\u001b[0;34m\u001b[0m\u001b[0m\n\u001b[0;32m----> 3\u001b[0;31m     \u001b[0mx\u001b[0m\u001b[0;34m[\u001b[0m\u001b[0mi\u001b[0m\u001b[0;34m]\u001b[0m \u001b[0;34m=\u001b[0m \u001b[0mx_0\u001b[0m\u001b[0;34m[\u001b[0m\u001b[0mi\u001b[0m\u001b[0;34m]\u001b[0m\u001b[0;34m+\u001b[0m\u001b[0mx_b\u001b[0m\u001b[0;34m[\u001b[0m\u001b[0mi\u001b[0m\u001b[0;34m]\u001b[0m\u001b[0;34m-\u001b[0m\u001b[0mx_s\u001b[0m\u001b[0;34m[\u001b[0m\u001b[0mi\u001b[0m\u001b[0;34m]\u001b[0m\u001b[0;34m\u001b[0m\u001b[0m\n\u001b[0m\u001b[1;32m      4\u001b[0m     \u001b[0mx_b\u001b[0m\u001b[0;34m[\u001b[0m\u001b[0mi\u001b[0m\u001b[0;34m]\u001b[0m \u001b[0;34m>=\u001b[0m \u001b[0;36m0\u001b[0m\u001b[0;34m\u001b[0m\u001b[0m\n\u001b[1;32m      5\u001b[0m     \u001b[0mx_s\u001b[0m\u001b[0;34m[\u001b[0m\u001b[0mi\u001b[0m\u001b[0;34m]\u001b[0m \u001b[0;34m>=\u001b[0m \u001b[0;36m0\u001b[0m\u001b[0;34m\u001b[0m\u001b[0m\n",
      "\u001b[0;31mNameError\u001b[0m: name 'x_0' is not defined"
     ]
    }
   ],
   "source": [
    "c = 0\n",
    "for i in range(5):\n",
    "    x[i] = x_0[i]+x_b[i]-x_s[i]\n",
    "    x_b[i] >= 0\n",
    "    x_s[i] >= 0\n",
    "    c = c + (x_b[i]+x_s[i])*0.01"
   ]
  },
  {
   "cell_type": "code",
   "execution_count": 12,
   "metadata": {
    "collapsed": true
   },
   "outputs": [],
   "source": [
    "model2 = AbstractModel()\n",
    "\n"
   ]
  },
  {
   "cell_type": "code",
   "execution_count": 12,
   "metadata": {
    "collapsed": true
   },
   "outputs": [],
   "source": [
    "random.seed(1000)\n",
    "\n",
    "model = AbstractModel()\n",
    "\n",
    "# Number of candidate locations\n",
    "model.m = Param(within=PositiveIntegers)\n",
    "# Number of customers\n",
    "model.n = Param(within=PositiveIntegers)\n",
    "# Set of candidate locations\n",
    "model.M = RangeSet(1,model.m)\n",
    "# Set of customer nodes\n",
    "model.N = RangeSet(1,model.n)\n",
    "\n",
    "# Number of facilities\n",
    "model.p = Param(within=RangeSet(1,model.n))\n",
    "# d[j] - demand of customer j\n",
    "model.d = Param(model.N, default=1.0)\n",
    "# c[i,j] - unit cost of satisfying customer j from facility i\n",
    "model.c = Param(model.M, model.N, initialize=lambda i, j, model : random.uniform(1.0,2.0), within=Reals)\n",
    "\n",
    "# x[i,j] - fraction of the demand of customer j that is supplied by facility i\n",
    "model.x = Var(model.M, model.N, bounds=(0.0,1.0))\n",
    "# y[i] - a binary value that is 1 is a facility is located at location i\n",
    "model.y = Var(model.M, within=Binary)\n",
    "\n",
    "# Minimize the demand-weighted total cost\n",
    "def cost_(model):\n",
    "    return sum(model.d[j]*model.c[i,j]*model.x[i,j] for i in model.M for j in model.N)\n",
    "model.cost = Objective(rule=cost_)\n",
    "\n",
    "# All of the demand for customer j must be satisfied\n",
    "def demand_(model, j):\n",
    "    return sum(model.x[i,j] for i in model.M) == 1.0\n",
    "model.demand = Constraint(model.N, rule=demand_)\n",
    "\n",
    "# Exactly p facilities are located\n",
    "def facilities_(model):\n",
    "    return sum(model.y[i] for i in model.M) == model.p\n",
    "model.facilities = Constraint(rule=facilities_)\n",
    "\n",
    "# Demand nodes can only be assigned to open facilities \n",
    "def openfac_(model, i, j):\n",
    "    return model.x[i,j] <= model.y[i]\n",
    "model.openfac = Constraint(model.M, model.N, rule=openfac_)"
   ]
  },
  {
   "cell_type": "code",
   "execution_count": 13,
   "metadata": {},
   "outputs": [
    {
     "name": "stdout",
     "output_type": "stream",
     "text": [
      "param m := 10;\r\n",
      "param n := 6;\r\n",
      "param p := 3;\r\n"
     ]
    }
   ],
   "source": [
    "!cat p-median.dat"
   ]
  },
  {
   "cell_type": "code",
   "execution_count": 14,
   "metadata": {},
   "outputs": [
    {
     "name": "stdout",
     "output_type": "stream",
     "text": [
      "[    0.00] Setting up Pyomo environment\n",
      "[    0.00] Applying Pyomo preprocessing actions\n",
      "[    0.00] Creating model\n",
      "[    0.02] Applying solver\n",
      "Job 5808233 submitted to NEOS, password='eYOgEnpd'\n",
      "Check the following URL for progress report :\n",
      "https://www.neos-server.org/neos/cgi-bin/nph-neos-solver.cgi?admin=results&jobnumber=5808233&pass=eYOgEnpd\n",
      "Job 5808233 dispatched\n",
      "password: eYOgEnpd\n",
      "---------- Begin Solver Output -----------\n",
      "Condor submit: 'neos.submit'\n",
      "Condor submit: 'watchdog.submit'\n",
      "Job submitted to NEOS HTCondor pool.\n",
      "[   16.28] Processing results\n",
      "    Number of solutions: 1\n",
      "    Solution Information\n",
      "      Gap: None\n",
      "      Status: optimal\n",
      "      Function Value: 6.43118493936\n",
      "    Solver results file: results.yml\n",
      "[   16.29] Applying Pyomo postprocessing actions\n",
      "[   16.29] Pyomo Finished\n"
     ]
    }
   ],
   "source": [
    "!pyomo solve --solver-manager=neos --solver=cbc p-median.py p-median.dat"
   ]
  },
  {
   "cell_type": "code",
   "execution_count": 15,
   "metadata": {},
   "outputs": [
    {
     "name": "stdout",
     "output_type": "stream",
     "text": [
      "# ==========================================================\r\n",
      "# = Solver Results                                         =\r\n",
      "# ==========================================================\r\n",
      "# ----------------------------------------------------------\r\n",
      "#   Problem Information\r\n",
      "# ----------------------------------------------------------\r\n",
      "Problem: \r\n",
      "- Lower bound: -inf\r\n",
      "  Upper bound: inf\r\n",
      "  Number of objectives: 1\r\n",
      "  Number of constraints: 67\r\n",
      "  Number of variables: 70\r\n",
      "  Sense: unknown\r\n",
      "# ----------------------------------------------------------\r\n",
      "#   Solver Information\r\n",
      "# ----------------------------------------------------------\r\n",
      "Solver: \r\n",
      "- Status: ok\r\n",
      "  Message: CBC 2.9.8 optimal, objective 6.43118493935767; 0 nodes, 0 iterations, 0.002 seconds\r\n",
      "  Termination condition: optimal\r\n",
      "  Id: 0\r\n",
      "# ----------------------------------------------------------\r\n",
      "#   Solution Information\r\n",
      "# ----------------------------------------------------------\r\n",
      "Solution: \r\n",
      "- number of solutions: 1\r\n",
      "  number of solutions displayed: 1\r\n",
      "- Gap: None\r\n",
      "  Status: optimal\r\n",
      "  Message: CBC 2.9.8 optimal, objective 6.43118493935767; 0 nodes, 0 iterations, 0.002 seconds\r\n",
      "  Objective:\r\n",
      "    cost:\r\n",
      "      Value: 6.43118493936\r\n",
      "  Variable:\r\n",
      "    x[3,4]:\r\n",
      "      Value: 1\r\n",
      "    x[6,1]:\r\n",
      "      Value: 1\r\n",
      "    x[6,2]:\r\n",
      "      Value: 1\r\n",
      "    x[6,3]:\r\n",
      "      Value: 1\r\n",
      "    x[6,5]:\r\n",
      "      Value: 1\r\n",
      "    x[9,6]:\r\n",
      "      Value: 1\r\n",
      "    y[3]:\r\n",
      "      Value: 1\r\n",
      "    y[6]:\r\n",
      "      Value: 1\r\n",
      "    y[9]:\r\n",
      "      Value: 1\r\n",
      "  Constraint: No values\r\n"
     ]
    }
   ],
   "source": [
    "!cat results.yml"
   ]
  },
  {
   "cell_type": "code",
   "execution_count": null,
   "metadata": {
    "collapsed": true
   },
   "outputs": [],
   "source": []
  }
 ],
 "metadata": {
  "kernelspec": {
   "display_name": "Python 2",
   "language": "python",
   "name": "python2"
  },
  "language_info": {
   "codemirror_mode": {
    "name": "ipython",
    "version": 2
   },
   "file_extension": ".py",
   "mimetype": "text/x-python",
   "name": "python",
   "nbconvert_exporter": "python",
   "pygments_lexer": "ipython2",
   "version": "2.7.10"
  }
 },
 "nbformat": 4,
 "nbformat_minor": 2
}
